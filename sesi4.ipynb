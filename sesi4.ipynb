{
  "nbformat": 4,
  "nbformat_minor": 0,
  "metadata": {
    "colab": {
      "provenance": []
    },
    "kernelspec": {
      "name": "python3",
      "display_name": "Python 3"
    },
    "language_info": {
      "name": "python"
    }
  },
  "cells": [
    {
      "cell_type": "code",
      "execution_count": null,
      "metadata": {
        "colab": {
          "base_uri": "https://localhost:8080/"
        },
        "id": "PC8QliKRsCbi",
        "outputId": "65327177-d106-47bc-90ce-e2e2581accd2"
      },
      "outputs": [
        {
          "output_type": "stream",
          "name": "stdout",
          "text": [
            "newton raphson =  1.4142857142857144\n",
            "sqrt(2) =  1.4142135623730951\n"
          ]
        }
      ],
      "source": [
        "import numpy as np\n",
        "\n",
        "f = lambda x: x**2-2\n",
        "\n",
        "f_prime = lambda x: 2*x\n",
        "\n",
        "newton_raphson = 1.4-(f(1.4))/(f_prime(1.4))\n",
        "\n",
        "print(\"newton raphson = \", newton_raphson)\n",
        "print(\"sqrt(2) = \", np.sqrt(2))"
      ]
    },
    {
      "cell_type": "code",
      "source": [
        "def my_newton(f, df, x0, tol):\n",
        "  if abs(f(x0)) < tol:\n",
        "    return x0\n",
        "  else:\n",
        "    return my_newton(f,df,x0-f(x0)/df(x0), tol)"
      ],
      "metadata": {
        "id": "ZomOYzRRuUpt"
      },
      "execution_count": null,
      "outputs": []
    },
    {
      "cell_type": "code",
      "source": [
        "estimate = my_newton(f,f_prime, 1.5, 1e-6)\n",
        "print(\"estimate = \", estimate)\n",
        "print(\"sqrt(2) =\", np.sqrt(2))"
      ],
      "metadata": {
        "colab": {
          "base_uri": "https://localhost:8080/"
        },
        "id": "d5SqJ0myvE1p",
        "outputId": "3c50ea18-348b-4dc8-8574-f26c18771993"
      },
      "execution_count": null,
      "outputs": [
        {
          "output_type": "stream",
          "name": "stdout",
          "text": [
            "estimate =  1.4142135623746899\n",
            "sqrt(2) = 1.4142135623730951\n"
          ]
        }
      ]
    }
  ]
}